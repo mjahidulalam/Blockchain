{
 "cells": [
  {
   "cell_type": "code",
   "execution_count": 2,
   "metadata": {},
   "outputs": [],
   "source": [
    "from datetime import datetime"
   ]
  },
  {
   "cell_type": "code",
   "execution_count": 7,
   "metadata": {},
   "outputs": [],
   "source": [
    "class Block:\n",
    "    def __init__(self, transactions, previous_hash):\n",
    "        self.transactions = transactions\n",
    "        self.previous_hash = previous_hash\n",
    "        self.nonce = 0\n",
    "        self.timestamp = datetime.now()\n",
    "        pass\n",
    "    \n",
    "class Blockchain:\n",
    "  def __init__(self):\n",
    "    self.chain = []\n",
    "    self.unconfirmed_transactions = []\n",
    "    self.genesis_block()\n",
    "\n",
    "  def genesis_block(self):\n",
    "    transactions = []\n",
    "    genesis_block = Block(transactions, \"0\")\n",
    "    genesis_block.generate_hash()\n",
    "    self.chain.append(genesis_block)\n",
    "\n",
    "  def add_block(self, transactions):\n",
    "    previous_hash = (self.chain[len(self.chain)-1]).hash\n",
    "    new_block = Block(transactions, previous_hash)\n",
    "    new_block.generate_hash()\n",
    "    proof = self.proof_of_work(new_block)\n",
    "    self.chain.append(new_block)\n",
    "    return proof, new_block\n",
    "\n",
    "  def print_blocks(self):\n",
    "    for i in range(len(self.chain)):\n",
    "      current_block = self.chain[i]\n",
    "      print(\"Block {} {}\".format(i, current_block))\n",
    "      current_block.print_contents()\n",
    "\n",
    "  def validate_chain(self):\n",
    "    for i in range(1, len(self.chain)):\n",
    "      current = self.chain[i]\n",
    "      previous = self.chain[i-1]\n",
    "      if(current.hash != current.generate_hash()):\n",
    "        print(\"The current hash of the block does not equal the generated hash of the block.\")\n",
    "        return False\n",
    "      if(current.previous_hash != previous.generate_hash()):\n",
    "        print(\"The previous block's hash does not equal the previous hash value stored in the current block.\")\n",
    "        return False\n",
    "    return True\n",
    "  \n",
    "  def proof_of_work(self,block, difficulty=2):\n",
    "    proof = block.generate_hash()\n",
    "    while proof[:difficulty] != '0'*difficulty:\n",
    "      block.nonce += 1\n",
    "      proof = block.generate_hash()\n",
    "    block.nonce = 0\n",
    "    return proof"
   ]
  }
 ],
 "metadata": {
  "kernelspec": {
   "display_name": "Python 3",
   "language": "python",
   "name": "python3"
  },
  "language_info": {
   "codemirror_mode": {
    "name": "ipython",
    "version": 3
   },
   "file_extension": ".py",
   "mimetype": "text/x-python",
   "name": "python",
   "nbconvert_exporter": "python",
   "pygments_lexer": "ipython3",
   "version": "3.7.5"
  }
 },
 "nbformat": 4,
 "nbformat_minor": 2
}
